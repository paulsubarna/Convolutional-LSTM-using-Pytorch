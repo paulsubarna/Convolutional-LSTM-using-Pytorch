{
  "cells": [
    {
      "cell_type": "markdown",
      "metadata": {
        "id": "view-in-github",
        "colab_type": "text"
      },
      "source": [
        "<a href=\"https://colab.research.google.com/github/paulsubarna/Convolutional-LSTM-using-Pytorch/blob/main/Curriculum_Learning_tutorial_(1).ipynb\" target=\"_parent\"><img src=\"https://colab.research.google.com/assets/colab-badge.svg\" alt=\"Open In Colab\"/></a>"
      ]
    },
    {
      "cell_type": "markdown",
      "metadata": {
        "id": "eWA6II2viz_L"
      },
      "source": [
        "## Curriculum Learning\n",
        "\n",
        "In this tutorial, we will explore various Curriculum Learning strategies, as discussed in Lecture []. Traditionally, neural networks are trained on entire datasets using mini-batch updates. However, in this notebook, we take a different approach by dividing the dataset into smaller segments or bins of data. We will analyze the model's performance as it progressively trains on these bins for certain epochs until it has processed all the bins. Such a training paradigm has shown to reduce the training time complexity in manifolds as well as assisting the model to convergae better as can be seen in the figure below.\n",
        "\n",
        "As part of this notebook, we will try to replicate the observations as presented in one of the pioneering works in Curriculum learning by [Yoshua Bengio](https://dl.acm.org/doi/pdf/10.1145/1553374.1553380). We will closely follow the training setup discussed in this work where the authors try to train a language model with Wiki Text dataset in a Curriculum fashion. So, it would be highly recommended to first go through this paper and then try to solve this notebook.\n",
        "\n",
        "</figure>\n",
        "\n",
        "<p align=\"middle\">\n",
        "\n",
        "  <img  src=\"loss_curve.png\"   width=400 hspace=\"20\" />  <img src=\"final_res.png\" width=400 />\n",
        "  <figcaption><h4 align=\"center\">Comparison of learning curves for curriculum and (No) curriculum strategies. (a) Reported validation in Bengio's paper (b) The expected validation curve for this notebook  </h4></figcaption>\n",
        "\n",
        "</p>\n",
        "</figure>\n",
        "\n",
        "\n",
        "Our final goal of this notebook would be to achieve such a validation loss curve at the end of the training cycle as shown in the Figure (b). It is not important you reproduce the exact figure, as you can have chosen to plot it differently and there is stochasticity in optimization. However, the trend should be visible. If you don't see the curriculum surpassing the non-curriculum curve, go back and re-check your code\"\n",
        "\n",
        "\n",
        "\n",
        "The notebook will broadly be divided into three main parts:\n",
        "- Implement curriculum learning with a simple language model on textual data\n",
        "- Investigate the implications behind anti-curriculum learning strategy.\n",
        "- Finally, we explore the efficacy of LSTMs to generate texts in curriculum fashion.\n",
        "\n",
        "\n"
      ]
    },
    {
      "cell_type": "markdown",
      "metadata": {
        "id": "-WzF6I1iiz_N"
      },
      "source": [
        "#### Let us begin with the installing the necessary libraries"
      ]
    },
    {
      "cell_type": "code",
      "execution_count": null,
      "metadata": {
        "id": "y8IaiAfqnzzc",
        "pycharm": {
          "is_executing": true
        }
      },
      "outputs": [],
      "source": [
        "\"\"\"\n",
        "For pytorch 2.0 use '!pip install torchdata'\n",
        "\"\"\"\n",
        "## Install the necessary packages\n",
        "# use only if necessary\n",
        "\n",
        "#!pip install torch==2.3.0 torchtext==0.18.0\n",
        "\n",
        "## Check the installed versions\n",
        "!pip show torch torchtext"
      ]
    },
    {
      "cell_type": "code",
      "execution_count": null,
      "metadata": {
        "id": "bLTwPB3Un9-4"
      },
      "outputs": [],
      "source": [
        "import torch\n",
        "import random\n",
        "import re\n",
        "from tqdm import tqdm\n",
        "from typing import Tuple\n",
        "from typing import Optional\n",
        "from torch import nn, Tensor\n",
        "from collections import Counter\n",
        "import matplotlib.pyplot as plt\n",
        "from torchtext.vocab import vocab\n",
        "from torch.utils.data import dataset\n",
        "from torchtext.data.utils import get_tokenizer\n",
        "from torch.utils.data import DataLoader, Dataset\n",
        "from torchtext.vocab import build_vocab_from_iterator\n",
        "\n",
        "device = torch.device('cuda' if torch.cuda.is_available() else 'cpu')"
      ]
    },
    {
      "cell_type": "markdown",
      "metadata": {
        "id": "r_wW_TiBiz_P"
      },
      "source": [
        "#### Let us now load the dataset.\n",
        "- In this notebook, we will use one of the most popular text datasets, WikiText2. The dataset is a collection of over 100 million tokens extracted from the set of verified Good and Featured articles on Wikipedia. The dataset is commonly used in the scope of language modeling.\n",
        "- We have provided the dataset in the form of a .txt file for ease of use."
      ]
    },
    {
      "cell_type": "code",
      "execution_count": null,
      "metadata": {
        "id": "8xRoML5AoJLr"
      },
      "outputs": [],
      "source": [
        "# change the path and name of the files accordingly\n",
        "\n",
        "with open(\"/app/src/wiki.train.txt\", \"r\") as train, \\\n",
        "     open(\"/app/src/wiki.valid.txt\", \"r\") as val, \\\n",
        "     open(\"/app/src/wiki.test.txt\", \"r\") as test:\n",
        "\n",
        "    train_data = train.readlines()\n",
        "    val_data = val.readlines()\n",
        "    test_data = test.readlines()\n",
        "\n",
        "    valid_data =  val_data + test_data\n",
        "\n"
      ]
    },
    {
      "cell_type": "markdown",
      "metadata": {
        "id": "vLEi4LI4iz_P"
      },
      "source": [
        "#### Data Preprocessing\n",
        "\n",
        "- Now, we will proceed to clean the raw text file. We will try to remove any special characters except english alphabets, that also includes remove punctuations, ascii characters, extra white spaces, and numerical characters.\n",
        "\n",
        "<em> HINT! <em>\n",
        "Recommended to use one of the widely used libraries to process the data such as nltk, RegEx\n",
        ""
      ]
    },
    {
      "cell_type": "code",
      "execution_count": null,
      "metadata": {
        "id": "XohrYoaAiz_Q"
      },
      "outputs": [],
      "source": [
        "#**** ------------------- TO-DO ------------------- ****\n",
        "### Preprocess the data: Both for training and validation data\n",
        "for i in range(len(train_data)):\n",
        "### Remove the unwanted characters (anything other than a-z, A-Z)\n",
        "\n",
        "### Remove the digits\n",
        "\n",
        "### Remove the extra spaces\n",
        "\n",
        "for i in range(len(valid_data)):\n",
        "\n"
      ]
    },
    {
      "cell_type": "markdown",
      "metadata": {
        "id": "foPnoqbViz_Q"
      },
      "source": [
        "#### Define a tokenizer and create a vocabulary for the dataset\n",
        "- In this notebook, we will use the basic_english tokenizer from torchtext to tokenize the text data.\n",
        "- We will then create a vocabulary from the training data using the build_vocab_from_iterator function from torchtext.\n",
        "TO-DO:\n",
        "1. Complete the Vocabulary class with the following methods\n",
        "    - word_to_idx\n",
        "    - idx_to_word\n",
        "    - length of the vocabulary\n",
        "    - initialization method"
      ]
    },
    {
      "cell_type": "code",
      "execution_count": null,
      "metadata": {
        "id": "rFLqB-5woMMy"
      },
      "outputs": [],
      "source": [
        "\"\"\" builds vocab out of corpus and sorts in descending order of frequency\n",
        "  The model should have max vocab of 30k words\n",
        "  **  \"\"\"\n",
        "\n",
        "\n",
        "## Tokenizer\n",
        "tokenizer = get_tokenizer('basic_english')\n",
        "\n",
        "### VOcalbulary class\n",
        "class Vocabulary(Dataset):\n",
        "  def __init__(self, wikidata, tokenizer):\n",
        "    \"\"\" This method should build the vocab from the corpus \"\"\"\n",
        "    super(Vocabulary, self).__init__()\n",
        "    self.tokenizer = tokenizer\n",
        "    self.wikidata = wikidata\n",
        "\n",
        "    # actual length of train vocab is 30k\n",
        "    ## The vocab should be built using the build_vocab_from_iterator method ##\n",
        "    \"\"\" -- TO-DO -- \"\"\"\n",
        "\n",
        "\n",
        "\n",
        "  def word_to_idx(self, word):\n",
        "    \"\"\" This method should return the index of the word in the vocab \"\"\"\n",
        "    \"\"\" -- TO-DO -- \"\"\"\n",
        "\n",
        "    return\n",
        "\n",
        "  def idx_to_word(self, idx):\n",
        "    \"\"\" This method should return the word given the index \"\"\"\n",
        "    \"\"\" -- TO-DO -- \"\"\"\n",
        "\n",
        "    return\n",
        "  def __len__(self):\n",
        "    \"\"\" This method should return the length of the vocab \"\"\"\n",
        "    \"\"\" -- TO-DO -- \"\"\"\n",
        "\n",
        "    return"
      ]
    },
    {
      "cell_type": "markdown",
      "metadata": {
        "id": "WfqI5rXQiz_R"
      },
      "source": [
        "#### Convert raw text into tensor tokens\n",
        "\n",
        "- Create a function to transform the text data into a tensor of indices\n",
        "- Use the vocabulary object and the tokenizer to transform the raw text into a tensor of indices\n",
        "\n",
        "TO-DO:\n",
        "1. Define the data_process function. The function should have the following arguments:\n",
        "    - vocabulary: The vocabulary object\n",
        "    - raw_text_iter: The raw text data\n",
        "    - The function should return a flat tensor of the raw text data"
      ]
    },
    {
      "cell_type": "code",
      "execution_count": null,
      "metadata": {
        "id": "iQcASRxho5Uv"
      },
      "outputs": [],
      "source": [
        "\"\"\" Converts raw text into a flat Tensor\n",
        "**** ------------------- TO-DO ------------------- ****\n",
        "### Define the data_process function\n",
        "The function should have the following arguments:\n",
        "1. vocabulary: The vocabulary object\n",
        "2. raw_text_iter: The raw text data\n",
        "The function should return a flat tensor of the raw text data\n",
        "\n",
        "\"\"\"\n",
        "\n",
        "def data_process(vocabulary, raw_text_iter: dataset.IterableDataset) -> Tensor:\n",
        "    \"\"\" TODO: Converts raw text into a flat Tensor \"\"\"\n",
        "    # Tokenize the raw text data\n",
        "    # and convert it to a tensor using the vocabulary\n",
        "    # vocabulary.corpus_vocab(tokenizer(item))\n",
        "    # The corpus_vocab method should be defined in the Vocabulary class\n",
        "    # and should return the tensor of the tokenized text data\n",
        "    # The data should be converted to a tensor of type long\n",
        "    # and should be concatenated into a single tensor\n",
        "\n",
        "\n",
        "    return"
      ]
    },
    {
      "cell_type": "markdown",
      "metadata": {
        "id": "xLh_Ti8Eiz_S"
      },
      "source": [
        "#### Let us now craft the dataset and dataloaders\n",
        "\n",
        "- For textual data, we would expect our dataloader to return windows of tokens from the dataset class\n",
        "- Experiment with the batch size, num_workers in dataloader object\n",
        "\n",
        "TO-DO:\n",
        "\n",
        "1. Create the dataset class for training and validation data. The class should have the following methods:\n",
        "- __init__: This method should initialize the dataset\n",
        "- __len__: This method should return the length of the dataset\n",
        "- __getitem__: This method should return the data at the given index"
      ]
    },
    {
      "cell_type": "code",
      "execution_count": null,
      "metadata": {
        "id": "ZpgyfEULiz_S"
      },
      "outputs": [],
      "source": [
        "\n",
        "\n",
        "MAX_VOCAB =  27000\n",
        "batch_size = 128\n",
        "\n",
        "class Wikipedia_Dataloader(Dataset):\n",
        "  \"\"\" This class should create a dataset for the Wikipedia data \"\"\"\n",
        "  def __init__(self, corpus, vocab_len):\n",
        "    self.corpus = corpus\n",
        "    self.vocab_len =  vocab_len\n",
        "    self.seq_len = 5\n",
        "\n",
        "  def __len__(self):\n",
        "    \"\"\" This method should return the length of the dataset \"\"\"\n",
        "    \"\"\" -- TO-DO -- \"\"\"\n",
        "    return\n",
        "\n",
        "  def __getitem__(self, idx):\n",
        "    \"\"\" This method should return the window data for the given index \"\"\"\n",
        "    \"\"\" -- TO-DO -- \"\"\"\n",
        "    # The data should be returned as a tuple of two tensors\n",
        "    # The first tensor should be the input data\n",
        "    # The second tensor should be the window data with randomly selected word at the last index\n",
        "    ## HINT: Refer to the paper recommended in the assignment\n",
        "\n",
        "\n",
        "    return\n",
        "\n",
        "\n",
        "#### prepare data loaders\n",
        "## For the ease of simplicity, lets us use the first 20k words of the voca for the training and the validation data\n",
        "# I have defined the objects for the vocab, training dataset and dataloaders. Follow the same for the validation data\n",
        "vocabulary = Vocabulary(train_data, tokenizer)\n",
        "train_iter = data_process(vocabulary, train_data)\n",
        "wiki_data_train = Wikipedia_Dataloader(train_iter, 20000)\n",
        "data_loader = DataLoader(wiki_data_train, batch_size= batch_size, drop_last=True)\n",
        "\n",
        "\"\"\" ---- TO-DO ----\n",
        "### Create the respective validation data objects\"\"\"\n"
      ]
    },
    {
      "cell_type": "code",
      "execution_count": null,
      "metadata": {
        "id": "m_241LOsqEOn"
      },
      "outputs": [],
      "source": [
        "lr = 1e-3\n",
        "epochs = 20\n",
        "embed_dim = 50\n",
        "batch_size = 128\n",
        "hidden_units = 100\n"
      ]
    },
    {
      "cell_type": "markdown",
      "metadata": {
        "id": "QavrSD8iqh93"
      },
      "source": [
        "#### Define a simple language model\n",
        "\n",
        "- Step 1: Encode each word into a multi-dimensional vector embedding\n",
        "- Step 2: Pass the embeddings through a simple multi-layer perceptron.\n",
        "- Step 3: The model should output only a single word\n",
        "\n",
        "HINT: If you had read the cited paper, we would have probably seen the authors have used look-up tables for embeddings. Use torch.nn.Embeddings function instead\n"
      ]
    },
    {
      "cell_type": "code",
      "execution_count": null,
      "metadata": {
        "id": "KirbkMD_qEOo"
      },
      "outputs": [],
      "source": [
        "### Language Model\n",
        "### The model should have the following layers:\n",
        "### 1. Embedding layer\n",
        "### 2. Flatten layer\n",
        "### 3. Linear layer\n",
        "\n",
        "\n",
        "class CurriculumLearning(nn.Module):\n",
        "  def __init__(self, max_vocab, embed_dim, hidden_units):\n",
        "    super(CurriculumLearning, self).__init__()\n",
        "    \"\"\" This method should define the model architecture \"\"\"\n",
        "    \"\"\" -- TO-DO -- \"\"\"\n",
        "    self.max_vocab = max_vocab\n",
        "    self.embed_dim = embed_dim\n",
        "    self.hidden_units = hidden_units\n",
        "\n",
        "\n",
        "\n",
        "  def forward(self, x):\n",
        "    \"\"\" This method should define the forward pass of the model \"\"\"\n",
        "    \"\"\" -- TO-DO -- \"\"\"\n",
        "\n",
        "    return out"
      ]
    },
    {
      "cell_type": "markdown",
      "metadata": {
        "id": "PE27uTSRiz_T"
      },
      "source": [
        "##### Before proceeding to Curriculum training, let us first conduct a joint training on entire vocabulary set.\n",
        "\n",
        "For the sake of simplicity, we have choosen to use the first 20k words in our use case.\n",
        "Define the following training attributes:"
      ]
    },
    {
      "cell_type": "code",
      "execution_count": null,
      "metadata": {
        "id": "fAzTOwWJIUaN"
      },
      "outputs": [],
      "source": [
        "\"\"\" ---- TO-DO ----  \"\"\"\n",
        "## Initialize the model\n",
        "\n",
        "## Define the loss function\n",
        "\n",
        "## Define the optimizer\n",
        "\n",
        "## Define the learning rate scheduler\n",
        "HINT: Use CosineLR scheduler from torch library"
      ]
    },
    {
      "cell_type": "markdown",
      "metadata": {
        "id": "2IX3vzAJqm-w"
      },
      "source": [
        "#### Helper function:\n",
        "\n",
        "- To check whether a word falls into our pre-specified range of vocabulary of 20k words. IF not, we reject the complete window as also discussed in the paper\n"
      ]
    },
    {
      "cell_type": "code",
      "execution_count": null,
      "metadata": {
        "id": "HMhdRwHeq5Pl"
      },
      "outputs": [],
      "source": [
        "def validate_window(fs_batch, fsw_batch, vocab_size) -> Tuple[Tensor, Tensor]:\n",
        "    \"\"\"\n",
        "    Validate the window data to ensure that the indices are within the vocabulary size.\n",
        "    Args:\n",
        "        fs_batch (Tensor): The correct input data window.\n",
        "        fsw_batch (Tensor): The incorrect data window with one randomly shuffled index at the end.\n",
        "        vocab_size (int): The size of the vocabulary.\n",
        "    Returns:\n",
        "        Tuple[Tensor, Tensor]: The valid input and window data batches.\n",
        "\n",
        "        ----- TO-DO -----\n",
        "    \"\"\"\n",
        "\n",
        "    if len(indices) == 0:\n",
        "        return torch.tensor([]), torch.tensor([])\n",
        "\n",
        "\n",
        "    return valid_fs, valid_fsw"
      ]
    },
    {
      "cell_type": "markdown",
      "metadata": {
        "id": "Y-9QCxv-iz_T"
      },
      "source": [
        "#### Define the training loop and similarily the evaluation loop.\n",
        "\n",
        "- Read windows of texts\n",
        "- Validate it through the validate_window function\n",
        "\n",
        "HINT: The structure should be the same for both of these functions"
      ]
    },
    {
      "cell_type": "code",
      "execution_count": null,
      "metadata": {
        "id": "FkwAfTVj_PA_"
      },
      "outputs": [],
      "source": [
        "def train(data: torch.utils.data.dataloader.DataLoader,\n",
        "          model: nn.Module,\n",
        "          optimizer,\n",
        "          loss_fn,\n",
        "          vocab_size: Optional[int] = MAX_VOCAB\n",
        "\n",
        "          ):\n",
        "    \"\"\"\n",
        "    ----- TO-DO -----\n",
        "    Train the model for one epoch.\n",
        "    Args:\n",
        "        data (torch.utils.data.dataloader.DataLoader): The training data loader.\n",
        "        model (nn.Module): The model to train.\n",
        "        optimizer: The optimizer for the model.\n",
        "        loss_fn: The loss function for the model.\n",
        "        vocab_size (int, optional): The size of the vocabulary. Defaults to MAX_VOCAB.\n",
        "        ----- TO-DO -----\n",
        "    \"\"\"\n",
        "\n",
        "    for fs, fsw in tqdm(data):\n",
        "\n",
        "      ## First Validate the window data falls within the vocab size\n",
        "\n",
        "\n",
        "      ## Check  the indices are not empty\n",
        "\n",
        "      ## Get the scores for correct and incorrect data\n",
        "\n",
        "      ## Transform the target to one-hot encoding\n",
        "\n",
        "      ## Compute the loss\n",
        "\n",
        "      ## Training loop\n",
        "      ## Backpropagation\n",
        "      ## Update the weights\n",
        "      ## Zero the gradients\n",
        "      ## Step the optimizer\n",
        "\n",
        "      ## Add the loss to the total loss\n",
        "\n",
        "\n",
        "    return ## average loss for the epoch\n",
        "\n",
        "\n",
        "\n"
      ]
    },
    {
      "cell_type": "code",
      "execution_count": null,
      "metadata": {
        "id": "fkfyh2ryEE8q"
      },
      "outputs": [],
      "source": [
        "def evaluate(data: torch.utils.data.dataloader.DataLoader,\n",
        "          model: nn.Module,\n",
        "          loss_fn,\n",
        "          ):\n",
        "\n",
        "\"\"\" ----- TO-DO -----\n",
        "\n",
        "Construct a similar function for the evaluation on validation data\n",
        "\"\"\"\n",
        "\n",
        "    for fs, fsw in tqdm(data):\n",
        "\n",
        "        ## First Validate the window data falls within the vocab size\n",
        "\n",
        "\n",
        "        ## Check  the indices are not empty\n",
        "\n",
        "        ## Get the scores for correct and incorrect data\n",
        "\n",
        "        ## Transform the target to one-hot encoding\n",
        "\n",
        "        ## Compute the loss\n",
        "\n",
        "        ## Training loop\n",
        "        ## Backpropagation\n",
        "        ## Update the weights\n",
        "        ## Zero the gradients\n",
        "        ## Step the optimizer\n",
        "\n",
        "        ## Add the loss to the total loss\n",
        "\n",
        "\n",
        "        return ## average loss for the epoch\n",
        "\n",
        "\n"
      ]
    },
    {
      "cell_type": "code",
      "execution_count": null,
      "metadata": {
        "colab": {
          "base_uri": "https://localhost:8080/"
        },
        "id": "wVLS8Fd2qEOq",
        "outputId": "3c2f5c20-61d3-4de3-8a0e-a47a44a5c7ae",
        "pycharm": {
          "is_executing": true
        }
      },
      "outputs": [
        {
          "name": "stdout",
          "output_type": "stream",
          "text": [
            "Training without Curriculum Learning \n",
            "----------------------------------------------------------\n",
            "\n",
            "Epoch: 1/4\n"
          ]
        },
        {
          "name": "stderr",
          "output_type": "stream",
          "text": [
            "100%|██████████████████████████████████████████████████████████████████████████████████████████████████████████████████| 13238/13238 [00:52<00:00, 249.80it/s]\n"
          ]
        },
        {
          "name": "stdout",
          "output_type": "stream",
          "text": [
            "1580122\n",
            "[Train] Loss: 0.7498\n",
            "[Eval]  Loss:: 0.6925\n",
            "[0.0021715728752538096]\n",
            "\n",
            "Epoch: 2/4\n"
          ]
        },
        {
          "name": "stderr",
          "output_type": "stream",
          "text": [
            "100%|██████████████████████████████████████████████████████████████████████████████████████████████████████████████████| 13238/13238 [00:56<00:00, 236.04it/s]\n"
          ]
        },
        {
          "name": "stdout",
          "output_type": "stream",
          "text": [
            "1580116\n",
            "[Train] Loss: 0.7193\n",
            "[Eval]  Loss:: 0.6758\n",
            "[0.004999999999999999]\n",
            "\n",
            "Epoch: 3/4\n"
          ]
        },
        {
          "name": "stderr",
          "output_type": "stream",
          "text": [
            "100%|██████████████████████████████████████████████████████████████████████████████████████████████████████████████████| 13238/13238 [00:49<00:00, 266.88it/s]\n"
          ]
        },
        {
          "name": "stdout",
          "output_type": "stream",
          "text": [
            "1580129\n",
            "[Train] Loss: 0.6691\n",
            "[Eval]  Loss:: 0.5842\n",
            "[0.00782842712474619]\n",
            "\n",
            "Epoch: 4/4\n"
          ]
        },
        {
          "name": "stderr",
          "output_type": "stream",
          "text": [
            "100%|██████████████████████████████████████████████████████████████████████████████████████████████████████████████████| 13238/13238 [00:58<00:00, 225.84it/s]\n"
          ]
        },
        {
          "name": "stdout",
          "output_type": "stream",
          "text": [
            "1580129\n",
            "[Train] Loss: 0.5299\n",
            "[Eval]  Loss:: 0.4652\n",
            "[0.009]\n"
          ]
        }
      ],
      "source": [
        "### Start training the non-curriculum learning model\n",
        "print('Training without Curriculum Learning \\n----------------------------------------------------------')\n",
        "\n",
        "collect_ranks = []    #torch.tensor([])\n",
        "epochs= 4\n",
        "for i in range(epochs):\n",
        "\n",
        "  print(f'\\nEpoch: {i + 1}/{epochs}')\n",
        "  train(data_loader, model, optimizer_, loss_fn, vocab_size=20000)\n",
        "  collect_ranks.append(evaluate(data_loader_valid, model, loss_fn))\n",
        "  scheduler_.step()\n",
        "  print(scheduler_.get_last_lr())"
      ]
    },
    {
      "cell_type": "markdown",
      "metadata": {
        "id": "aTnDXqYkiz_U"
      },
      "source": [
        "#### Plot the validation loss curve"
      ]
    },
    {
      "cell_type": "code",
      "execution_count": null,
      "metadata": {
        "colab": {
          "base_uri": "https://localhost:8080/",
          "height": 449
        },
        "id": "qDkPOd2-qEOq",
        "outputId": "6e943c8a-6521-4400-b6f8-5e9fed646749",
        "pycharm": {
          "is_executing": true
        }
      },
      "outputs": [
        {
          "data": {
            "image/png": "[encoded data removed]",
            "text/plain": [
              "<Figure size 640x480 with 1 Axes>"
            ]
          },
          "metadata": {},
          "output_type": "display_data"
        }
      ],
      "source": [
        "fig, ax = plt.subplots()\n",
        "\n",
        "x_cord = range(0, len(collect_ranks))\n",
        "ax.plot(x_cord, collect_ranks)\n",
        "\n",
        "ax.set_xlabel('Number of updates')\n",
        "ax.set_ylabel('Loss curve ')\n",
        "plt.show()"
      ]
    },
    {
      "cell_type": "markdown",
      "metadata": {
        "id": "RJqutcdkiz_U"
      },
      "source": [
        "#### Training the model in curriculum fashion\n",
        "\n",
        "We now transition to curriculum training. Model definition should be the same. However,unlike joint training, now we need to train our model with bins in a curriculum fashion. In this case, we will equally divide the data in terms of vocab size into four bins. That means, we will first training on first 5000 vocab words and then progressively add 5000 more words to the vocab until we reach 20k words. We simply reject any window with words outside the specified vocab range."
      ]
    },
    {
      "cell_type": "code",
      "execution_count": null,
      "metadata": {
        "id": "2U7DlYuYqEOr"
      },
      "outputs": [],
      "source": [
        "# ***********************************************************\n",
        "# training with Curriculum Learning\n",
        "# ***********************************************************\n",
        "\n",
        "model_curriculum = CurriculumLearning(27000, embed_dim, hidden_units).to(device)\n",
        "loss_fn = nn.MarginRankingLoss(margin=1.0)\n",
        "optimizer = torch.optim.SGD(model_curriculum.parameters(), lr = 1e-3)\n",
        "scheduler = torch.optim.lr_scheduler.CosineAnnealingLR(optimizer, T_max=4, eta_min=9e-3)\n"
      ]
    },
    {
      "cell_type": "code",
      "execution_count": null,
      "metadata": {
        "id": "-UAnXYisiz_U"
      },
      "outputs": [],
      "source": [
        "\"\"\"\n",
        "*** ------------------- TO-DO ------------------- ****\n",
        "1. Segment the training data into 4 parts\n",
        "2. Create the data loaders for each part: Make sure you only use the first 5000 words of the vocab for bin 1 and then 10k fir bin 2 and so on\n",
        "3. Create the data loader for the validation data- it will be the same as we had defined for the non-curriculum learning model\n",
        "\"\"\"\n",
        "\n",
        "### trianing data object definition\n",
        "for i in range(4):\n",
        "\n",
        "\n",
        "\n",
        "### Validation object definition will stay the same\n",
        "vocabulary_v = Vocabulary(valid_data, tokenizer)\n",
        "val_iter = data_process( vocabulary_v, valid_data)\n",
        "wiki_data_valid = Wikipedia_Dataloader(val_iter, 20000)\n",
        "data_loader_valid = DataLoader(wiki_data_valid, batch_size= batch_size, drop_last=True)\n"
      ]
    },
    {
      "cell_type": "code",
      "execution_count": null,
      "metadata": {
        "id": "6I95bAr6iz_U"
      },
      "outputs": [],
      "source": [
        "def train(data: torch.utils.data.dataloader.DataLoader,\n",
        "          model: nn.Module,\n",
        "          optimizer,\n",
        "          loss_fn,\n",
        "          size: int,\n",
        "          vocab_size: Optional[int] = MAX_VOCAB\n",
        "          ):\n",
        "\n",
        "    model.train()\n",
        "    epoch_loss = 0\n",
        "    for fs, fsw in tqdm(data):\n",
        "\n"
      ]
    },
    {
      "cell_type": "code",
      "execution_count": null,
      "metadata": {
        "colab": {
          "base_uri": "https://localhost:8080/"
        },
        "id": "atyfniG-qEOr",
        "outputId": "36330c77-e313-431e-f540-1ce0bf53431a",
        "pycharm": {
          "is_executing": true
        }
      },
      "outputs": [
        {
          "name": "stdout",
          "output_type": "stream",
          "text": [
            "Training with Curriculum Learning\n",
            "----------------------------------------------------------\n",
            "\n",
            "Epoch: (1/1) | Experience: (1/4) | Vocab size: 5000\n"
          ]
        },
        {
          "name": "stderr",
          "output_type": "stream",
          "text": [
            "100%|██████████████████████████████████████████████████████████████████████████████████████████████████████████████████| 13238/13238 [00:57<00:00, 230.71it/s]\n"
          ]
        },
        {
          "name": "stdout",
          "output_type": "stream",
          "text": [
            "900635\n",
            "[Train] Loss: 0.7456\n",
            "[Eval]  Loss:: 0.7126\n",
            "[0.0021715728752538096]\n",
            "----------------------------------------------------------\n",
            "\n",
            "Epoch: (1/1) | Experience: (2/4) | Vocab size: 10000\n"
          ]
        },
        {
          "name": "stderr",
          "output_type": "stream",
          "text": [
            "100%|██████████████████████████████████████████████████████████████████████████████████████████████████████████████████| 13238/13238 [00:48<00:00, 270.34it/s]\n"
          ]
        },
        {
          "name": "stdout",
          "output_type": "stream",
          "text": [
            "1267451\n",
            "[Train] Loss: 0.7183\n",
            "[Eval]  Loss:: 0.6773\n",
            "[0.004999999999999999]\n",
            "----------------------------------------------------------\n",
            "\n",
            "Epoch: (1/1) | Experience: (3/4) | Vocab size: 15000\n"
          ]
        },
        {
          "name": "stderr",
          "output_type": "stream",
          "text": [
            "100%|██████████████████████████████████████████████████████████████████████████████████████████████████████████████████| 13238/13238 [00:57<00:00, 231.87it/s]\n"
          ]
        },
        {
          "name": "stdout",
          "output_type": "stream",
          "text": [
            "1459529\n",
            "[Train] Loss: 0.6238\n",
            "[Eval]  Loss:: 0.5373\n",
            "[0.00782842712474619]\n",
            "----------------------------------------------------------\n",
            "\n",
            "Epoch: (1/1) | Experience: (4/4) | Vocab size: 20000\n"
          ]
        },
        {
          "name": "stderr",
          "output_type": "stream",
          "text": [
            "100%|██████████████████████████████████████████████████████████████████████████████████████████████████████████████████| 13238/13238 [00:48<00:00, 275.73it/s]\n"
          ]
        },
        {
          "name": "stdout",
          "output_type": "stream",
          "text": [
            "1580132\n",
            "[Train] Loss: 0.5186\n",
            "[Eval]  Loss:: 0.4616\n",
            "[0.009]\n"
          ]
        }
      ],
      "source": [
        "''' *** ------------------- TO-DO ------------------- ****\n",
        "1. Train the model with curriculum learning\n",
        "2. Use the same loss function and optimizer as we used for the non-curriculum learning model\n",
        "3. Use the same learning rate scheduler as we used for the non-curriculum learning model\n",
        "4. Use the same validation function as we used for the non-curriculum learning model\n",
        "5. Use the same training function as we used for the non-curriculum learning model\n",
        "'''\n",
        "\n",
        "epochs = 1\n",
        "ranks_cl = []\n",
        "experiences = 4\n",
        "vocab_init = 5000\n",
        "\n",
        "print('Training with Curriculum Learning')\n",
        "for exp in range(experiences):\n",
        "  vocab_step = vocab_init * (1+exp)\n",
        "  data_loader.dataset.vocab_len = vocab_step\n",
        "\n",
        "  print('----------------------------------------------------------')\n",
        "\n",
        "  for epoch in range(epochs):\n",
        "    print(f'\\nEpoch: ({epoch + 1}/{epochs}) | Experience: ({exp+1}/{experiences}) | Vocab size: {vocab_step}')\n",
        "    train(train_loader[exp], model_curriculum, optimizer, loss_fn, 5000*(1+exp), vocab_step)\n",
        "    ranks_cl.append(evaluate(data_loader_valid, model_curriculum, loss_fn))\n",
        "    scheduler.step()\n",
        "    print(scheduler.get_last_lr())"
      ]
    },
    {
      "cell_type": "code",
      "execution_count": null,
      "metadata": {
        "colab": {
          "base_uri": "https://localhost:8080/",
          "height": 449
        },
        "id": "PLeVX02PqEOr",
        "outputId": "bdd33d70-8d72-42e8-c363-ce3101e11e8e",
        "pycharm": {
          "is_executing": true
        }
      },
      "outputs": [
        {
          "data": {
            "image/png": "[encoded data removed]",
            "text/plain": [
              "<Figure size 640x480 with 1 Axes>"
            ]
          },
          "metadata": {},
          "output_type": "display_data"
        }
      ],
      "source": [
        "fig, ax = plt.subplots()\n",
        "\n",
        "x_cord = range(0, len(ranks_cl))\n",
        "ax.plot(x_cord, ranks_cl)\n",
        "\n",
        "ax.set_xlabel('Number of updates')\n",
        "ax.set_ylabel('Log of rank')\n",
        "plt.show()"
      ]
    },
    {
      "cell_type": "markdown",
      "metadata": {
        "id": "n9wBhiIaiz_V"
      },
      "source": [
        "#### Plotting the curves\n",
        "\n",
        "Our final validation loss should look the plot shown below. It is not important you reproduce the exact figure, as you can have chosen to plot it differently and there is stochasticity in optimization. However, the trend should be visible. If you don't see the curriculum surpassing the non-curriculum curve, go back and re-check your code."
      ]
    },
    {
      "cell_type": "code",
      "execution_count": null,
      "metadata": {
        "id": "g0Qx9m3uiz_V",
        "outputId": "5a562570-5054-43e0-cfc4-d1f734c25152"
      },
      "outputs": [
        {
          "data": {
            "image/png": "[encoded data removed]",
            "text/plain": [
              "<Figure size 640x480 with 1 Axes>"
            ]
          },
          "metadata": {},
          "output_type": "display_data"
        }
      ],
      "source": [
        "### Plotting the validation curves of curriculum, and non-curriculum learning on top of each other and try to replicate the figure (b) shown in the introduction of this notebook\n",
        "\n",
        "\"\"\" ___ TO-DO __ \"\"\"\n",
        "\n",
        "\n",
        "\n",
        "\n",
        "\n",
        "\n",
        "ax.set_xlabel('Number of updates')\n",
        "ax.set_ylabel('Validation loss')\n",
        "\n",
        "plt.legend()\n",
        "\n",
        "plt.show()"
      ]
    },
    {
      "cell_type": "markdown",
      "metadata": {
        "id": "2HptGMt2iz_V"
      },
      "source": [
        "#### Curriculum Learning with LSTMs."
      ]
    },
    {
      "cell_type": "markdown",
      "metadata": {
        "id": "kMtpBYhhiz_V"
      },
      "source": [
        "In the previous experiments, we have seen that the model with curriculum learning is able to learn better than the model without curriculum learning.\n",
        "Can we reciprocate the same findings with a LSTM ?\n",
        "\n",
        "If you are unaware of LSTM models, please read this paper [LSTM](https://interactiveaudiolab.github.io/teaching/casa/HorchreiterSchmidhuber_LSTM.pdf)\n",
        "\n",
        "- Perform the same experiments as above; now using LSTMs.\n",
        "- The data processing, loading part will stay exactly the same whereas the real task woudl be to craft an LSTM model.\n",
        "- We now only have to define a LSTM model by yourself.\n",
        "- Train it with and without curriculum learning."
      ]
    },
    {
      "cell_type": "code",
      "execution_count": null,
      "metadata": {
        "id": "uchorMJ8iz_V"
      },
      "outputs": [],
      "source": [
        "### Load the data as before\n",
        "with open(\"/app/src/wiki.train_.txt\", \"r\") as file:\n",
        "    train_data = file.readlines()\n",
        "with open(\"/app/src/wiki.valid_.txt\", \"r\") as file:\n",
        "    val_data = file.readlines()"
      ]
    },
    {
      "cell_type": "markdown",
      "metadata": {
        "id": "k-7ADZUuiz_V"
      },
      "source": [
        "##### Data loading and pre-processing\n",
        "- Preprocess the data: Both for training and validation data\n",
        "- Define the VOcabulary class\n",
        "- Define the data_process function\n",
        "- Define the Wikipedia_Dataloader class\n",
        "- Define the validate_window function\n",
        "- Define the dataset, dataloader objects"
      ]
    },
    {
      "cell_type": "code",
      "execution_count": null,
      "metadata": {
        "id": "93Usunaaiz_e"
      },
      "outputs": [],
      "source": [
        "\"\"\" ___ TO-DO __ \"\"\"\n",
        "### Preprocess the data: Both for training and validation data\n",
        "### Define the VOcabulary class\n",
        "### Define the data_process function\n",
        "### Define the Wikipedia_Dataloader class\n",
        "### Define the validate_window function\n",
        "### Define the dataset, dataloader objects\n",
        "\n",
        "\n",
        "\n",
        "tokenizer = get_tokenizer('basic_english')\n",
        "#train_words = tokenizer(train_data)\n",
        "#train_words[:10]\n",
        "from torch.nn.functional import one_hot\n",
        "\n",
        "class Vocabulary(Dataset):\n",
        "  def __init__(self, wikidata, tokenizer):\n",
        "    self.tokenizer = tokenizer\n",
        "    self.wikidata = wikidata\n",
        "\n",
        "\n",
        "\n",
        "  def word_to_idx(self, word):\n",
        "    return\n",
        "\n",
        "  def idx_to_word(self, idx):\n",
        "    return\n",
        "\n",
        "  def __len__(self):\n",
        "    return\n",
        "\n",
        "def data_process(vocabulary, raw_text_iter: dataset.IterableDataset) -> Tensor:\n",
        "\n",
        "    return\n",
        "\n",
        "class Wikipedia_Dataloader(Dataset):\n",
        "  def __init__(self, corpus, vocab_len):\n",
        "    self.corpus = corpus\n",
        "    self.vocab_len =  vocab_len\n",
        "    self.seq_len = 32\n",
        "\n",
        "  def __len__(self):\n",
        "    return\n",
        "  def __getitem__(self, idx):\n",
        "\n",
        "\n",
        "    return\n",
        "\n",
        "# prepare data loaders\n",
        "\n",
        "\n",
        "\n",
        "\n",
        "\n",
        "# Validate window\n",
        "def validate_window(x_, y_, vocab_size) -> Tuple[Tensor, Tensor]:\n",
        "\n",
        "\n",
        "    return x_, y_"
      ]
    },
    {
      "cell_type": "markdown",
      "metadata": {
        "id": "sWaia85yiz_e"
      },
      "source": [
        "##### Define the LSTM Model\n",
        "-  Embedding layer\n",
        "-  LSTM layer\n",
        "-  Linear layer\n",
        "-  Dropout layer\n",
        "-  Flatten layer\n",
        "\n",
        "The model should have the following arguments:\n",
        "-  features_vocab_total_words: The total number of words in the vocabulary\n",
        "-  target_vocab_total_words: The total number of words in the target vocabulary\n",
        "-  embedding_dim: The dimension of the embedding layer\n",
        "-  hidden_dim: The dimension of the hidden layer\n",
        "-  output_dim: The dimension of the output layer\n",
        "-  dropout: The dropout rate\n",
        "-  batch_first: Whether to use batch first or not\n",
        "-  bidirectional: Whether to use bidirectional LSTM or not\n",
        "-  num_layers: The number of layers in the LSTM"
      ]
    },
    {
      "cell_type": "code",
      "execution_count": null,
      "metadata": {
        "id": "25dWkOogiz_e",
        "outputId": "4b0ff17e-f47f-45e5-dfc7-7af7438440f1"
      },
      "outputs": [
        {
          "name": "stdout",
          "output_type": "stream",
          "text": [
            "Number of available GPUs: 1\n",
            "GPU 0: NVIDIA A100-SXM4-40GB\n"
          ]
        }
      ],
      "source": [
        "if torch.cuda.is_available():\n",
        "    print(f\"Number of available GPUs: {torch.cuda.device_count()}\")\n",
        "    for i in range(torch.cuda.device_count()):\n",
        "        print(f\"GPU {i}: {torch.cuda.get_device_name(i)}\")\n",
        "else:\n",
        "    print(\"No GPU available\")\n",
        "\n",
        "# Set the correct device index (assuming the first GPU is available)\n",
        "device = torch.device(0 if torch.cuda.is_available() else 'cpu')\n",
        "\n",
        "\n",
        "\n",
        "\"\"\" ___ TO-DO __ \"\"\"\n",
        "### Define the model architecture\n",
        "\n",
        "\n",
        "class My_LSTM(nn.Module):\n",
        "    def __init__(self, features_vocab_total_words, target_vocab_total_words, embedding_dim, hidden_dim):\n",
        "        super(My_LSTM, self).__init__()\n",
        "\n",
        "\n",
        "    def forward(self, x):\n",
        "\n",
        "        return output\n",
        "\n",
        "embedding_dim = 128\n",
        "hidden_dim = 256\n",
        "epochs = 5\n",
        "model = My_LSTM(len(vocabulary),len(vocabulary), embedding_dim=128, hidden_dim=256).to(device)\n",
        "optimizer = torch.optim.SGD(model.parameters(), lr=1e-3)\n",
        "scheduler = torch.optim.lr_scheduler.CosineAnnealingLR(optimizer, T_max=4, eta_min=9e-3)"
      ]
    },
    {
      "cell_type": "markdown",
      "metadata": {
        "id": "-Vd4j1Qdiz_e"
      },
      "source": [
        "#### Training and Validation loop\n"
      ]
    },
    {
      "cell_type": "code",
      "execution_count": null,
      "metadata": {
        "id": "L2hZuBjJiz_e",
        "outputId": "0698af04-65f7-4872-d96f-1fc47e9d6c22"
      },
      "outputs": [
        {
          "name": "stdout",
          "output_type": "stream",
          "text": [
            "Number of available GPUs: 1\n",
            "GPU 0: NVIDIA A100-SXM4-40GB\n"
          ]
        },
        {
          "name": "stderr",
          "output_type": "stream",
          "text": [
            "100%|██████████████████████████████████████████████████████████████████████████████████████████████████████████████████| 13238/13238 [01:09<00:00, 189.83it/s]\n"
          ]
        },
        {
          "name": "stdout",
          "output_type": "stream",
          "text": [
            "Epoch 1/4 Loss: 0.06663457080703256\n",
            "Epoch 1/4 Loss: 10.033507205547028\n",
            "Validation Acc: 0.08264779031949493\n",
            "Validation Loss: 9.698337886023472\n"
          ]
        },
        {
          "name": "stderr",
          "output_type": "stream",
          "text": [
            "100%|██████████████████████████████████████████████████████████████████████████████████████████████████████████████████| 13238/13238 [01:07<00:00, 196.90it/s]\n"
          ]
        },
        {
          "name": "stdout",
          "output_type": "stream",
          "text": [
            "Epoch 2/4 Loss: 0.07845119646232303\n",
            "Epoch 2/4 Loss: 8.755572950431166\n",
            "Validation Acc: 0.09370723021000427\n",
            "Validation Loss: 7.75493221123905\n"
          ]
        },
        {
          "name": "stderr",
          "output_type": "stream",
          "text": [
            "100%|██████████████████████████████████████████████████████████████████████████████████████████████████████████████████| 13238/13238 [01:06<00:00, 198.19it/s]\n"
          ]
        },
        {
          "name": "stdout",
          "output_type": "stream",
          "text": [
            "Epoch 3/4 Loss: 0.08062569095253379\n",
            "Epoch 3/4 Loss: 7.884087385917326\n",
            "Validation Acc: 0.10112801871937131\n",
            "Validation Loss: 7.42712804669016\n"
          ]
        },
        {
          "name": "stderr",
          "output_type": "stream",
          "text": [
            "100%|██████████████████████████████████████████████████████████████████████████████████████████████████████████████████| 13238/13238 [01:06<00:00, 198.15it/s]\n"
          ]
        },
        {
          "name": "stdout",
          "output_type": "stream",
          "text": [
            "Epoch 4/4 Loss: 0.08390570949680824\n",
            "Epoch 4/4 Loss: 7.649610068074416\n",
            "Validation Acc: 0.10686376948094951\n",
            "Validation Loss: 7.259653602513105\n"
          ]
        }
      ],
      "source": [
        "if torch.cuda.is_available():\n",
        "    print(f\"Number of available GPUs: {torch.cuda.device_count()}\")\n",
        "    for i in range(torch.cuda.device_count()):\n",
        "        print(f\"GPU {i}: {torch.cuda.get_device_name(i)}\")\n",
        "else:\n",
        "    print(\"No GPU available\")\n",
        "\n",
        "# Set the correct device index (assuming the first GPU is available)\n",
        "result = []\n",
        "device = torch.device(0 if torch.cuda.is_available() else 'cpu')\n",
        "loss_fn = nn.CrossEntropyLoss()\n",
        "epochs = 4\n",
        "for e in range(epochs):\n",
        "    losses = 0.0\n",
        "    total = 0.0\n",
        "    correct = 0.0\n",
        "    correct_v = 0.0\n",
        "    total_v = 0.0\n",
        "    model.train()\n",
        "    for i, batch in enumerate(tqdm(data_loader)):\n",
        "        \"\"\"\n",
        "        ----- TO-DO -----\n",
        "        1. Get the input and target data from the batch\n",
        "        2. Validate the window data to ensure that the indices are within the vocabulary size.\n",
        "        3. Check if the indices are not empty\n",
        "        4. Make a forward pass through the model\n",
        "        5. Transform the target to one-hot encoding\n",
        "        6. Compute the loss\n",
        "        7. Training loop\n",
        "        8. Backpropagation\n",
        "\n",
        "        \"\"\"\n",
        "\n",
        "\n",
        "\n",
        "    model.eval()\n",
        "    ### Validation loop\n",
        "    with torch.no_grad():\n",
        "        losses = 0.0\n",
        "\n",
        "\n",
        "\n",
        "\n",
        "#pred.shape"
      ]
    },
    {
      "cell_type": "markdown",
      "metadata": {
        "id": "OSm71NiUiz_f"
      },
      "source": [
        "#### Generate dataloaders for Curriculum Training\n",
        "- Use a similar strategy where you divide the vocabulary of 20k words into 4 bins."
      ]
    },
    {
      "cell_type": "code",
      "execution_count": null,
      "metadata": {
        "id": "lyd4c-Z0iz_f"
      },
      "outputs": [],
      "source": [
        "\"\"\"\n",
        "    ----- TO-DO -----\"\n",
        "    1. Train loader\n",
        "    2. Validation loader\n",
        "\"\"\""
      ]
    },
    {
      "cell_type": "code",
      "execution_count": null,
      "metadata": {
        "id": "g0gXQtV0iz_f",
        "outputId": "9d096e32-8956-4238-fc24-59a1560c7862"
      },
      "outputs": [
        {
          "name": "stdout",
          "output_type": "stream",
          "text": [
            "Number of available GPUs: 1\n",
            "GPU 0: NVIDIA A100-SXM4-40GB\n"
          ]
        },
        {
          "name": "stderr",
          "output_type": "stream",
          "text": [
            "100%|██████████████████████████████████████████████████████████████████████████████████████████████████████████████████| 13238/13238 [00:34<00:00, 384.57it/s]\n"
          ]
        },
        {
          "name": "stdout",
          "output_type": "stream",
          "text": [
            "Epoch 1/1 Loss: 0.025802266707508244\n",
            "Epoch 1/1 Loss: 3.26955367373743\n",
            "Validation Acc: 0.0773130638254036\n",
            "Validation Loss: 10.122837078011385\n",
            "Validation Loss: 10.122837078011385\n"
          ]
        },
        {
          "name": "stderr",
          "output_type": "stream",
          "text": [
            "  1%|█                                                                                                                   | 118/13238 [00:00<00:56, 231.13it/s]"
          ]
        },
        {
          "name": "stderr",
          "output_type": "stream",
          "text": [
            "100%|██████████████████████████████████████████████████████████████████████████████████████████████████████████████████| 13238/13238 [00:56<00:00, 232.53it/s]\n"
          ]
        },
        {
          "name": "stdout",
          "output_type": "stream",
          "text": [
            "Epoch 1/1 Loss: 0.07950937778388946\n",
            "Epoch 1/1 Loss: 7.781745519679845\n",
            "Validation Acc: 0.0829789112743006\n",
            "Validation Loss: 7.825514690984748\n",
            "Validation Loss: 7.825514690984748\n"
          ]
        },
        {
          "name": "stderr",
          "output_type": "stream",
          "text": [
            "100%|██████████████████████████████████████████████████████████████████████████████████████████████████████████████████| 13238/13238 [01:05<00:00, 203.51it/s]\n"
          ]
        },
        {
          "name": "stdout",
          "output_type": "stream",
          "text": [
            "Epoch 1/1 Loss: 0.08429347418791652\n",
            "Epoch 1/1 Loss: 7.495172647177084\n",
            "Validation Acc: 0.10452384806698944\n",
            "Validation Loss: 7.060224631597105\n",
            "Validation Loss: 7.060224631597105\n"
          ]
        },
        {
          "name": "stderr",
          "output_type": "stream",
          "text": [
            "100%|██████████████████████████████████████████████████████████████████████████████████████████████████████████████████| 13238/13238 [01:08<00:00, 193.22it/s]\n"
          ]
        },
        {
          "name": "stdout",
          "output_type": "stream",
          "text": [
            "Epoch 1/1 Loss: 0.0952667522556257\n",
            "Epoch 1/1 Loss: 7.212542000467422\n",
            "Validation Acc: 0.10992847787376198\n",
            "Validation Loss: 6.846938437714392\n",
            "Validation Loss: 6.846938437714392\n"
          ]
        }
      ],
      "source": [
        "if torch.cuda.is_available():\n",
        "    print(f\"Number of available GPUs: {torch.cuda.device_count()}\")\n",
        "    for i in range(torch.cuda.device_count()):\n",
        "        print(f\"GPU {i}: {torch.cuda.get_device_name(i)}\")\n",
        "else:\n",
        "    print(\"No GPU available\")\n",
        "\n",
        "\"\"\"\"\n",
        "__ TO-DO __:\n",
        "1. Define the model architecture\n",
        "2. Define the loss function\n",
        "3. Define the optimizer\n",
        "4. Define the learning rate scheduler\n",
        "5. Define the training and validation functions\n",
        "6. Train the model with curriculum learning\n",
        "7. Evaluate the model\n",
        "\"\"\"\"\n",
        "\n",
        "\n",
        "# Set the correct device index (assuming the first GPU is available)\n",
        "\n",
        "\n",
        "#pred.shape"
      ]
    },
    {
      "cell_type": "markdown",
      "metadata": {
        "id": "E9C16YbLiz_f"
      },
      "source": [
        "#### Validate your findings by plotting the loss curves"
      ]
    },
    {
      "cell_type": "code",
      "execution_count": null,
      "metadata": {
        "id": "LeUXDUzQiz_f"
      },
      "outputs": [],
      "source": [
        "\n",
        "plt.xlabel('Epochs')\n",
        "plt.ylabel('Loss')\n",
        "plt.title('Loss vs Epochs')\n",
        "plt.legend()"
      ]
    }
  ],
  "metadata": {
    "accelerator": "GPU",
    "colab": {
      "provenance": [],
      "include_colab_link": true
    },
    "gpuClass": "standard",
    "kernelspec": {
      "display_name": "Python 3 (ipykernel)",
      "language": "python",
      "name": "python3"
    },
    "language_info": {
      "codemirror_mode": {
        "name": "ipython",
        "version": 3
      },
      "file_extension": ".py",
      "mimetype": "text/x-python",
      "name": "python",
      "nbconvert_exporter": "python",
      "pygments_lexer": "ipython3",
      "version": "3.10.12"
    }
  },
  "nbformat": 4,
  "nbformat_minor": 0
}