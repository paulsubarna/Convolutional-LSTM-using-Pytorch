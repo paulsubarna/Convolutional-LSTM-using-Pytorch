{
  "cells": [
    {
      "cell_type": "markdown",
      "metadata": {
        "id": "view-in-github",
        "colab_type": "text"
      },
      "source": [
        "<a href=\"https://colab.research.google.com/github/paulsubarna/Convolutional-LSTM-using-Pytorch/blob/main/transfer_learning_tutorial_2.ipynb\" target=\"_parent\"><img src=\"https://colab.research.google.com/assets/colab-badge.svg\" alt=\"Open In Colab\"/></a>"
      ]
    },
    {
      "cell_type": "markdown",
      "metadata": {
        "id": "ddRBKd8MAhwk"
      },
      "source": [
        "#### Tutorial 2: TRANSFER LEARNING\n",
        "\n",
        "In this tutorial, we investigate \"How transferable are features in deep neural networks ?\". Previous studies has shown that features learned by neural networks at specific layers either *\"appear\"* to be specific to a particular dataset or *\"general\"* that are applicable to wide variety of datasets. As a result, we will try to quantify the transferability of the features from the bottom, middle, or top of the network in terms of generality & specificity. I recommmend to read this paper on [Transfer learning](https://arxiv.org/pdf/1411.1792). If you are confused about any training details in this notebook, please quickly go through this paper. The final plot should look like this plot as shown below. Note that, for all the finetuning experiment, you have to record N validation accuracies for N layers.\n",
        "\n",
        "<p align=\"middle\">\n",
        "\n",
        "  <img  src=\"transfer.png\" width=500  hspace=\"20\" />\n",
        "  <figcaption><h4 align=\"center\">Transfer Learning  </h4></figcaption>\n",
        "\n",
        "The general structure of this notebook will be as follows:\n",
        "- Define a CNN model architecture (without residual layers)\n",
        "- Train on Dataset A\n",
        "- Train on Dataset B\n",
        "- Finetune on Dataset B with the model pretrained on Dataset A (Freezing and Not freezing the layers)\n",
        "- Finetune on Dataset B with the model pretrained on Dataset B (Freezing and Not freezing the layers)\n",
        "\n"
      ]
    },
    {
      "cell_type": "code",
      "execution_count": null,
      "metadata": {
        "id": "EqtyZdhdAhwn"
      },
      "outputs": [],
      "source": [
        "\n",
        "from datasets import load_dataset\n",
        "import torch\n",
        "import torch.nn as nn\n",
        "import torch.nn.functional as F\n",
        "import torchvision\n",
        "from typing import Sequence\n",
        "\n",
        "import torchvision.models.alexnet as alexnet\n",
        "\n"
      ]
    },
    {
      "cell_type": "markdown",
      "metadata": {
        "id": "KsK7ovPcAhwn"
      },
      "source": [
        "#### Load the dataset\n",
        "\n",
        "In this notebook, we will use the Imagenette dataset, a subset of ImageNet1k dataset. In total we have 10 unique classes which we will divide it into 2 sets of datasets (5 classes each).\n",
        "\n",
        "-- TO-Do --\n",
        "\n",
        "1. Download the IMAGENETTE from torch. (frgfm/imagenette) (Use load dataset function from torch library).\n",
        "2. Segment the dataset into A and B based on classes. For example, A --> (0,1,2,3,4) ; B --> (5,6,7,8,9)\n",
        "3. Define the train dataloaders and validation dataloaders for A and B\n",
        "\n"
      ]
    },
    {
      "cell_type": "code",
      "execution_count": null,
      "metadata": {
        "id": "ny7YV2lrAhwo"
      },
      "outputs": [],
      "source": [
        "\"\"\"\n",
        "---TO-DO---\n",
        "1. Load the dataset\n",
        "2. Apply the transforms\n",
        "3. Create the dataloaders\n",
        "\"\"\"\n",
        "# fix torch seed\n",
        "#to.manual_seed(42)\n",
        "\n",
        "data_train = load_dataset('frgfm/imagenette', '320px', split='train')\n",
        "data_test = load_dataset('frgfm/imagenette', '320px', split='validation')\n",
        "\n",
        "mean = torch.tensor([0.4589, 0.4384, 0.4011])\n",
        "std = torch.tensor([0.2793, 0.2724, 0.2835])\n",
        "\n",
        "# Apply transforms\n",
        "transforms = torchvision.transforms.Compose([\n",
        "    torchvision.transforms.RandomCrop(224),\n",
        "    torchvision.transforms.ToTensor(),\n",
        "    torchvision.transforms.Normalize(mean, std),\n",
        "])\n",
        "\n",
        "def apply_transforms(x):\n",
        "    x['image'] = [transforms(image.convert('RGB')) for image in x['image']]\n",
        "    return x\n",
        "\n",
        "\n",
        "### Split the dataset into two parts A: [0,1,2,3,4] and B: [5,6,7,8,9]\n",
        "\n",
        "\"\"\" -- TO-DO -- \"\"\"\n",
        "\n",
        "\n",
        "# Create dataloaders\n",
        "train_loader_A =\n",
        "train_loader_B =\n",
        "test_loader_A =\n",
        "test_loader_B ="
      ]
    },
    {
      "cell_type": "markdown",
      "metadata": {
        "id": "8uK0PZpEAhwo"
      },
      "source": [
        "#### Define Model Architecture\n",
        "\n",
        "-- TO-DO ---\n",
        "\n",
        "1. Define a CNN neural architecture.\n",
        "    - It should only have convoluation and feed-forward layers.\n",
        "    - It should only have 8 layers\n",
        "    - It should not have any residual layers\n",
        "    - The final output layers will only have 5 output nodes as each dataset A & B have 5 class instances.\n",
        "    - HINT: One such example CNN network is AlexNet.  "
      ]
    },
    {
      "cell_type": "code",
      "execution_count": null,
      "metadata": {
        "id": "Y-6KJlH_Ahwo"
      },
      "outputs": [],
      "source": [
        "if torch.cuda.is_available():\n",
        "    print(\"CUDA is available\")\n",
        "    device = torch.device(\"cuda\")\n",
        "else:\n",
        "    print(\"CUDA is not available\")\n",
        "    device = torch.device(\"cpu\")\n",
        "\n",
        "\"\"\" --TO-DO--\n",
        "1. Implement the CNN model\n",
        "\n",
        "\"\"\"\n",
        "\n"
      ]
    },
    {
      "cell_type": "markdown",
      "metadata": {
        "id": "5ceJsSoBAhwo"
      },
      "source": [
        "#### Implementing helper functions\n",
        "\n",
        "1. Define a function to intialize the weights of the model\n",
        "2. Define a function to freeze and unfreeze layers of the model\n",
        "3. Define a function to randomly initialize or freeze a specific layers of the model."
      ]
    },
    {
      "cell_type": "code",
      "execution_count": null,
      "metadata": {
        "id": "tj20F6oCAhwp",
        "outputId": "8c55f9d6-7913-410f-8764-0bc3e9f612fe"
      },
      "outputs": [
        {
          "name": "stderr",
          "output_type": "stream",
          "text": [
            "/usr/local/lib/python3.10/dist-packages/torchvision/models/_utils.py:208: UserWarning: The parameter 'pretrained' is deprecated since 0.13 and may be removed in the future, please use 'weights' instead.\n",
            "  warnings.warn(\n",
            "/usr/local/lib/python3.10/dist-packages/torchvision/models/_utils.py:223: UserWarning: Arguments other than a weight enum or `None` for 'weights' are deprecated since 0.13 and may be removed in the future. The current behavior is equivalent to passing `weights=None`.\n",
            "  warnings.warn(msg)\n"
          ]
        }
      ],
      "source": [
        "from torch.nn import Conv2d, Linear\n",
        "model =\n",
        "\"\"\"\n",
        "-- TO-DO --\n",
        "1. Implement the helper functions\n",
        "   - Random initialization of the layers\n",
        "   - Freeze/unfreeze layers\n",
        "   - Count the number of layers\n",
        "   \"\"\"\n",
        "#model.classifier.append(nn.Softmax(dim=1))\n",
        "\n",
        "# Initialize the weights\n",
        "for m in model.modules():\n",
        "\n",
        "\n",
        "def set_grad(model, requires_grad: bool):\n",
        "    ## Set the requires_grad attribute for all parameters in the model\n",
        "\n",
        "\n",
        "def iterate_layers(model):\n",
        "    for m in model.modules():\n",
        "        if isinstance(m, Conv2d) or isinstance(m, Linear):\n",
        "            yield m\n",
        "\n",
        "def count_layers(model: nn.Module):\n",
        "    return sum(1 for _ in iterate_layers(model))\n",
        "\n",
        "# Freeze the n first layers\n",
        "def freeze_unfreeze_layers(model, layers:Sequence, freeze: bool):\n",
        "\n",
        "\n",
        "# randomly initialize the last n layers\n",
        "def random_init_layers(model, layers:Sequence):\n",
        "\n",
        "\n",
        "\n",
        "\n",
        ""
      ]
    },
    {
      "cell_type": "markdown",
      "metadata": {
        "id": "Way0lC7SAhwp"
      },
      "source": [
        "#### Training and Validation loop\n",
        "\n",
        "1. Much like the notebook 1, define the training and validation loop.\n",
        "2. Make sure to return average validation loss and accuracy"
      ]
    },
    {
      "cell_type": "code",
      "execution_count": null,
      "metadata": {
        "id": "XJYwg11tAhwq"
      },
      "outputs": [],
      "source": [
        "criterion = nn.CrossEntropyLoss()\n",
        "\n",
        "def eval(model, test_data):\n",
        "    model.eval()\n",
        "    with torch.no_grad():\n",
        "        correct = 0\n",
        "        losses = 0.0\n",
        "        total = 0\n",
        "        for batch in tqdm(test_data):\n",
        "\n",
        "    return\n",
        "\n",
        "# define a simple training loop\n",
        "def train(model, train_data, valid_data, criterion, optimizer, scheduler, epochs=10):\n",
        "    optimizer.zero_grad()\n",
        "\n",
        "    history = {'test_loss': [],\n",
        "               'test_acc': [],\n",
        "               'train_loss': [],\n",
        "               'train_acc': []}\n",
        "    for epoch in range(epochs):\n",
        "        model.train()\n",
        "        correct = 0\n",
        "        losses = 0.0\n",
        "        total = 0\n",
        "        for batch in tqdm(train_data):\n",
        "\n",
        "        \"\"\" -- TO-DO --\"\"\"\n",
        "\n",
        "\n",
        "\n",
        "\n",
        "\n",
        "        if (epoch+1) % 10 == 0:\n",
        "            print(f\"Epoch {epoch} - Train Loss: {loss_}\")\n",
        "            print(f\"Epoch {epoch} - Test Loss: {loss_t}\")\n",
        "            print(f\"Epoch {epoch} - Train Accuracy: {acc_}\")\n",
        "            print(f\"Epoch {epoch} - Test Accuracy: {acc_t}\")\n",
        "\n",
        "        #scheduler.step()\n",
        "\n",
        "    return history"
      ]
    },
    {
      "cell_type": "markdown",
      "metadata": {
        "id": "MGWYFWOcAhwq"
      },
      "source": [
        "#### Pretrain the network on Dataset A\n",
        "\n",
        "-- TO-DO --\n",
        "1. Initialize the CNN model\n",
        "2. Initialize the optimizer\n",
        "3. Initialize the loss function\n",
        "4. Initialize the learning rate scheduler\n",
        "5. Train the model"
      ]
    },
    {
      "cell_type": "code",
      "execution_count": null,
      "metadata": {
        "id": "lBYoRZVrAhwq"
      },
      "outputs": [],
      "source": [
        "torch.manual_seed(42)\n",
        "import random\n",
        "random.seed(42)\n",
        "torch.backends.cudnn.deterministic = True\n",
        "torch.backends.cudnn.benchmark = False\n",
        "\n",
        "# Create dataloaders\n",
        "train_dataset = torchvision.datasets.ImageFolder(root='/split_A/train', transform=transforms, target_transform=None)\n",
        "train_loader = torch.utils.data.DataLoader(train_dataset, batch_size=32, shuffle=True, num_workers=0)\n",
        "val_dataset = torchvision.datasets.ImageFolder(root='/split_A/val', transform=transforms, target_transform=None)\n",
        "val_loader = torch.utils.data.DataLoader(val_dataset, batch_size=32, shuffle=False, num_workers=0)\n",
        "\"\"\"\n",
        "-- To-DO --\n",
        "1. Initialize the CNN model\n",
        "2. Initialize the optimizer\n",
        "3. Initialize the loss function\n",
        "4. Initialize the learning rate scheduler\n",
        "5. Train the model\n",
        "6. Evaluate the model\n",
        "7. Save the model\n",
        "8. Plot the results\n",
        "\"\"\"\n",
        "\n"
      ]
    },
    {
      "cell_type": "markdown",
      "metadata": {
        "id": "V0JRP8pDAhwq"
      },
      "source": [
        "#### Pre-train the network on Dataset B\n",
        "\n",
        "-- TO-DO --\n",
        "1. Initialize the CNN model\n",
        "2. Initialize the optimizer\n",
        "3. Initialize the loss function\n",
        "4. Initialize the learning rate scheduler\n",
        "5. Train the model"
      ]
    },
    {
      "cell_type": "code",
      "execution_count": null,
      "metadata": {
        "id": "c9I3F_wPAhwq"
      },
      "outputs": [],
      "source": [
        "torch.manual_seed(42)\n",
        "import random\n",
        "random.seed(42)\n",
        "torch.backends.cudnn.deterministic = True\n",
        "torch.backends.cudnn.benchmark = False\n",
        "train_dataset = torchvision.datasets.ImageFolder(root='/split_B/train', transform=transforms, target_transform=None)\n",
        "train_loader_B = torch.utils.data.DataLoader(train_dataset, batch_size=32, shuffle=True, num_workers=0)\n",
        "val_dataset = torchvision.datasets.ImageFolder(root='/split_B/val', transform=transforms, target_transform=None)\n",
        "val_loader_B = torch.utils.data.DataLoader(val_dataset, batch_size=32, shuffle=False, num_workers=0)\n",
        "\n",
        "\n",
        "\n"
      ]
    },
    {
      "cell_type": "markdown",
      "metadata": {
        "id": "6wzGERNAAhwq"
      },
      "source": [
        "#### Quantify the transferability of the layer features across the network\n",
        "\n",
        "In the following cells, we will investigate four possible scenarios to measure the transferability of the learned features:\n",
        "\n",
        "1. Finetune on dataset B with a pretrained model on dataset A (A-B)\n",
        "2. Finetune on dataset B with a pretrained model on dataset B (B-B)\n",
        "3. Finetune on dataset B with a pretrained model on dataset A while freezing some of the layers (A-B+)\n",
        "4. Finetune on dataset B with a pretrained model on dataset B while freezing some of the layers (B-B+)"
      ]
    },
    {
      "cell_type": "markdown",
      "metadata": {
        "id": "Aq4awjqzAhwq"
      },
      "source": [
        "#### 1. Perform the experiment (A-B)\n",
        "\n",
        "-- TO-DO --\n",
        "\n",
        "1. Initialize the model with pretrained weights from model A\n",
        "2. Iterate through all the layers\n",
        "3. Starting from layer 1, pick one layer for example layer 2, randomly initialize from layers 3 to the last layer and finetune on the dataset A\n",
        "4. Repeat the same training procedure for all the layers in the network\n",
        "\n"
      ]
    },
    {
      "cell_type": "code",
      "execution_count": null,
      "metadata": {
        "id": "1QH69LA6Ahwr"
      },
      "outputs": [],
      "source": [
        "torch.manual_seed(42)\n",
        "import random\n",
        "random.seed(42)\n",
        "torch.backends.cudnn.deterministic = True\n",
        "torch.backends.cudnn.benchmark = False\n",
        "\n",
        "\n",
        "\"\"\"\n",
        "-- To-DO --\n",
        "1. Repeat the training process for all the layers in the model\"\"\""
      ]
    },
    {
      "cell_type": "markdown",
      "metadata": {
        "id": "TE3H5hpbAhwr"
      },
      "source": [
        "#### 2. Perform the experiment (B-B)\n",
        "\n",
        "-- TO-DO --\n",
        "\n",
        "1. Initialize the model with pretrained weights from model B\n",
        "2. Iterate through all the layers\n",
        "3. Starting from layer 1, pick one layer for example layer 2, randomly initialize from layers 3 to the last layer and finetune on the dataset B\n",
        "4. Repeat the same training procedure for all the layers in the network"
      ]
    },
    {
      "cell_type": "code",
      "execution_count": null,
      "metadata": {
        "id": "JEL0RKsSAhwr"
      },
      "outputs": [],
      "source": [
        "torch.manual_seed(42)\n",
        "import random\n",
        "random.seed(42)\n",
        "torch.backends.cudnn.deterministic = True\n",
        "torch.backends.cudnn.benchmark = False\n",
        "\n",
        "\n",
        "\"\"\"\n",
        "-- To-DO --\n",
        "1. Repeat the training process for all the layers in the model\"\"\""
      ]
    },
    {
      "cell_type": "markdown",
      "metadata": {
        "id": "_3WIMk6eAhwr"
      },
      "source": [
        "#### 3. Perform the experiment (A-B+)\n",
        "\n",
        "-- TO-DO --\n",
        "\n",
        "1. Initialize the model with pretrained weights from model A\n",
        "2. Iterate through all the layers\n",
        "3. Starting from layer 1.\n",
        "4. Freeze the starting and its preceeding layers and keep the following/next unfreezed but randomly initialize it.\n",
        "4. Repeat the process for all the layers in the network and finetune it on dataset B"
      ]
    },
    {
      "cell_type": "code",
      "execution_count": null,
      "metadata": {
        "id": "5X6HmED7Ahwr"
      },
      "outputs": [],
      "source": [
        "\n",
        "\n",
        "\"\"\"\n",
        "-- To-DO --\n",
        "1. Repeat the training process for all the layers in the model\"\"\""
      ]
    },
    {
      "cell_type": "markdown",
      "metadata": {
        "id": "1VlQLa3SAhwr"
      },
      "source": [
        "#### 4. Perform the experiment (B-B+)\n",
        "\n",
        "-- TO-DO --\n",
        "\n",
        "1. Initialize the model with pretrained weights from model B\n",
        "2. Iterate through all the layers\n",
        "3. Starting from layer 1.\n",
        "4. Freeze the starting and its preceeding layers and keep the following/next unfreezed but randomly initialize it.\n",
        "4. Repeat the process for all the layers in the network and finetune it on dataset B"
      ]
    },
    {
      "cell_type": "code",
      "execution_count": null,
      "metadata": {
        "id": "EKNVSmeoAhwr"
      },
      "outputs": [],
      "source": [
        "train_dataset = torchvision.datasets.ImageFolder(root='split_B/train', transform=transforms, target_transform=None)\n",
        "train_loader_B = torch.utils.data.DataLoader(train_dataset, batch_size=32, shuffle=True, num_workers=0)\n",
        "val_dataset = torchvision.datasets.ImageFolder(root='split_B/val', transform=transforms, target_transform=None)\n",
        "val_loader_B = torch.utils.data.DataLoader(val_dataset, batch_size=32, shuffle=False, num_workers=0)\n",
        "\n",
        "\"\"\"\n",
        "-- To-DO --\n",
        "1. Repeat the training process for all the layers in the model\"\"\""
      ]
    },
    {
      "cell_type": "markdown",
      "metadata": {
        "id": "T2pOZR2WAhwr"
      },
      "source": [
        "#### Plot the curve"
      ]
    },
    {
      "cell_type": "code",
      "execution_count": null,
      "metadata": {
        "id": "52fntfNPAhwr",
        "outputId": "d9907e49-d802-4f78-ade6-beb733ea39ce"
      },
      "outputs": [
        {
          "data": {
            "text/plain": [
              "(68.0, 87.0)"
            ]
          },
          "execution_count": 54,
          "metadata": {},
          "output_type": "execute_result"
        },
        {
          "data": {
            "image/png": "[encoded data removed]",
            "text/plain": [
              "<Figure size 640x480 with 1 Axes>"
            ]
          },
          "metadata": {},
          "output_type": "display_data"
        }
      ],
      "source": [
        "import matplotlib.pyplot as plt\n",
        "\n",
        "plt.xlim(0,7)\n",
        "\n",
        "\"\"\"\n",
        "-- TO-DO --\n",
        "1. Plot the results\n",
        "2. Save the plot\n",
        "\"\"\"\n",
        "\n",
        "\n",
        "plt.plot(a_b_, label='AnB+', color='tomato')\n",
        "plt.plot(a_b, label='AnB', color='red')\n",
        "plt.plot(b_b, label='BnB+', color='blue')\n",
        "plt.plot(b_b_, label='BnB', color='lightskyblue')\n",
        "\n",
        "plt.xlabel('Number of Layers', fontsize=14)\n",
        "plt.ylabel('# Accuracy', fontsize=14)\n",
        "plt.axhline(y=83.4, color='r', linestyle='--', label= 'B')\n",
        "plt.legend()\n",
        "plt.title('Layer-wise Transfer Learning', fontsize=16)\n",
        "plt.ylim(68,87)"
      ]
    }
  ],
  "metadata": {
    "kernelspec": {
      "display_name": "Python 3 (ipykernel)",
      "language": "python",
      "name": "python3"
    },
    "language_info": {
      "codemirror_mode": {
        "name": "ipython",
        "version": 3
      },
      "file_extension": ".py",
      "mimetype": "text/x-python",
      "name": "python",
      "nbconvert_exporter": "python",
      "pygments_lexer": "ipython3",
      "version": "3.10.6"
    },
    "orig_nbformat": 4,
    "vscode": {
      "interpreter": {
        "hash": "f3ec14997cba6576b129bba346d4f39682d3cc61ee770a03c055c317bf489a5e"
      }
    },
    "colab": {
      "provenance": [],
      "include_colab_link": true
    }
  },
  "nbformat": 4,
  "nbformat_minor": 0
}